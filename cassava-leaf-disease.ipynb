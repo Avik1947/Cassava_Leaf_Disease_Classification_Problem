{
 "cells": [
  {
   "cell_type": "markdown",
   "id": "de94ee32",
   "metadata": {
    "papermill": {
     "duration": 0.009571,
     "end_time": "2022-07-09T11:32:27.200544",
     "exception": false,
     "start_time": "2022-07-09T11:32:27.190973",
     "status": "completed"
    },
    "tags": []
   },
   "source": [
    "### import Modules"
   ]
  },
  {
   "cell_type": "code",
   "execution_count": 1,
   "id": "939c437e",
   "metadata": {
    "execution": {
     "iopub.execute_input": "2022-07-09T11:32:27.220042Z",
     "iopub.status.busy": "2022-07-09T11:32:27.219303Z",
     "iopub.status.idle": "2022-07-09T11:32:32.745801Z",
     "shell.execute_reply": "2022-07-09T11:32:32.744178Z"
    },
    "papermill": {
     "duration": 5.540258,
     "end_time": "2022-07-09T11:32:32.749355",
     "exception": false,
     "start_time": "2022-07-09T11:32:27.209097",
     "status": "completed"
    },
    "tags": []
   },
   "outputs": [],
   "source": [
    "import pandas as pd\n",
    "import numpy as np\n",
    "import time\n",
    "import os\n",
    "import copy\n",
    "import json\n",
    "\n",
    "# importing plotting lib\n",
    "import seaborn as sns\n",
    "import matplotlib.pyplot as plt\n",
    "from PIL import Image\n",
    "\n",
    "# importing all torch lib\n",
    "import torch\n",
    "import torch.nn as nn\n",
    "import torch.optim as optim\n",
    "from torch.nn import functional as F\n",
    "from torch.utils.data import Dataset, DataLoader\n",
    "from torchvision import models\n",
    "from torchvision import transforms\n",
    "from tqdm import tqdm\n",
    "# for augmentaiton\n",
    "import albumentations as A\n",
    "from albumentations.pytorch.transforms import ToTensorV2\n",
    "\n",
    "# for ignoring warnings\n",
    "import warnings\n",
    "warnings.filterwarnings('ignore')\n",
    "%matplotlib inline"
   ]
  },
  {
   "cell_type": "markdown",
   "id": "fa47619e",
   "metadata": {
    "papermill": {
     "duration": 0.007559,
     "end_time": "2022-07-09T11:32:32.765260",
     "exception": false,
     "start_time": "2022-07-09T11:32:32.757701",
     "status": "completed"
    },
    "tags": []
   },
   "source": [
    "### Load the Data"
   ]
  },
  {
   "cell_type": "code",
   "execution_count": 2,
   "id": "5f7f53c1",
   "metadata": {
    "execution": {
     "iopub.execute_input": "2022-07-09T11:32:32.783439Z",
     "iopub.status.busy": "2022-07-09T11:32:32.782406Z",
     "iopub.status.idle": "2022-07-09T11:32:32.787289Z",
     "shell.execute_reply": "2022-07-09T11:32:32.786350Z"
    },
    "papermill": {
     "duration": 0.016497,
     "end_time": "2022-07-09T11:32:32.789360",
     "exception": false,
     "start_time": "2022-07-09T11:32:32.772863",
     "status": "completed"
    },
    "tags": []
   },
   "outputs": [],
   "source": [
    "BASE_DIR = '../input/cassava-leaf-disease-classification/'"
   ]
  },
  {
   "cell_type": "code",
   "execution_count": 3,
   "id": "ef7ef249",
   "metadata": {
    "execution": {
     "iopub.execute_input": "2022-07-09T11:32:32.807154Z",
     "iopub.status.busy": "2022-07-09T11:32:32.806424Z",
     "iopub.status.idle": "2022-07-09T11:32:33.034940Z",
     "shell.execute_reply": "2022-07-09T11:32:33.033367Z"
    },
    "papermill": {
     "duration": 0.24002,
     "end_time": "2022-07-09T11:32:33.037094",
     "exception": true,
     "start_time": "2022-07-09T11:32:32.797074",
     "status": "failed"
    },
    "tags": []
   },
   "outputs": [
    {
     "ename": "FileNotFoundError",
     "evalue": "[Errno 2] No such file or directory: '../input/cassava-leaf-disease-classification/train.csv'",
     "output_type": "error",
     "traceback": [
      "\u001b[0;31m---------------------------------------------------------------------------\u001b[0m",
      "\u001b[0;31mFileNotFoundError\u001b[0m                         Traceback (most recent call last)",
      "\u001b[0;32m/tmp/ipykernel_20/272414295.py\u001b[0m in \u001b[0;36m<module>\u001b[0;34m\u001b[0m\n\u001b[0;32m----> 1\u001b[0;31m \u001b[0mtrain\u001b[0m \u001b[0;34m=\u001b[0m \u001b[0mpd\u001b[0m\u001b[0;34m.\u001b[0m\u001b[0mread_csv\u001b[0m\u001b[0;34m(\u001b[0m\u001b[0mBASE_DIR\u001b[0m \u001b[0;34m+\u001b[0m \u001b[0;34m'train.csv'\u001b[0m\u001b[0;34m)\u001b[0m\u001b[0;34m\u001b[0m\u001b[0;34m\u001b[0m\u001b[0m\n\u001b[0m\u001b[1;32m      2\u001b[0m \u001b[0mtrain\u001b[0m\u001b[0;34m.\u001b[0m\u001b[0mhead\u001b[0m\u001b[0;34m(\u001b[0m\u001b[0;34m)\u001b[0m\u001b[0;34m\u001b[0m\u001b[0;34m\u001b[0m\u001b[0m\n",
      "\u001b[0;32m/opt/conda/lib/python3.7/site-packages/pandas/util/_decorators.py\u001b[0m in \u001b[0;36mwrapper\u001b[0;34m(*args, **kwargs)\u001b[0m\n\u001b[1;32m    309\u001b[0m                     \u001b[0mstacklevel\u001b[0m\u001b[0;34m=\u001b[0m\u001b[0mstacklevel\u001b[0m\u001b[0;34m,\u001b[0m\u001b[0;34m\u001b[0m\u001b[0;34m\u001b[0m\u001b[0m\n\u001b[1;32m    310\u001b[0m                 )\n\u001b[0;32m--> 311\u001b[0;31m             \u001b[0;32mreturn\u001b[0m \u001b[0mfunc\u001b[0m\u001b[0;34m(\u001b[0m\u001b[0;34m*\u001b[0m\u001b[0margs\u001b[0m\u001b[0;34m,\u001b[0m \u001b[0;34m**\u001b[0m\u001b[0mkwargs\u001b[0m\u001b[0;34m)\u001b[0m\u001b[0;34m\u001b[0m\u001b[0;34m\u001b[0m\u001b[0m\n\u001b[0m\u001b[1;32m    312\u001b[0m \u001b[0;34m\u001b[0m\u001b[0m\n\u001b[1;32m    313\u001b[0m         \u001b[0;32mreturn\u001b[0m \u001b[0mwrapper\u001b[0m\u001b[0;34m\u001b[0m\u001b[0;34m\u001b[0m\u001b[0m\n",
      "\u001b[0;32m/opt/conda/lib/python3.7/site-packages/pandas/io/parsers/readers.py\u001b[0m in \u001b[0;36mread_csv\u001b[0;34m(filepath_or_buffer, sep, delimiter, header, names, index_col, usecols, squeeze, prefix, mangle_dupe_cols, dtype, engine, converters, true_values, false_values, skipinitialspace, skiprows, skipfooter, nrows, na_values, keep_default_na, na_filter, verbose, skip_blank_lines, parse_dates, infer_datetime_format, keep_date_col, date_parser, dayfirst, cache_dates, iterator, chunksize, compression, thousands, decimal, lineterminator, quotechar, quoting, doublequote, escapechar, comment, encoding, encoding_errors, dialect, error_bad_lines, warn_bad_lines, on_bad_lines, delim_whitespace, low_memory, memory_map, float_precision, storage_options)\u001b[0m\n\u001b[1;32m    584\u001b[0m     \u001b[0mkwds\u001b[0m\u001b[0;34m.\u001b[0m\u001b[0mupdate\u001b[0m\u001b[0;34m(\u001b[0m\u001b[0mkwds_defaults\u001b[0m\u001b[0;34m)\u001b[0m\u001b[0;34m\u001b[0m\u001b[0;34m\u001b[0m\u001b[0m\n\u001b[1;32m    585\u001b[0m \u001b[0;34m\u001b[0m\u001b[0m\n\u001b[0;32m--> 586\u001b[0;31m     \u001b[0;32mreturn\u001b[0m \u001b[0m_read\u001b[0m\u001b[0;34m(\u001b[0m\u001b[0mfilepath_or_buffer\u001b[0m\u001b[0;34m,\u001b[0m \u001b[0mkwds\u001b[0m\u001b[0;34m)\u001b[0m\u001b[0;34m\u001b[0m\u001b[0;34m\u001b[0m\u001b[0m\n\u001b[0m\u001b[1;32m    587\u001b[0m \u001b[0;34m\u001b[0m\u001b[0m\n\u001b[1;32m    588\u001b[0m \u001b[0;34m\u001b[0m\u001b[0m\n",
      "\u001b[0;32m/opt/conda/lib/python3.7/site-packages/pandas/io/parsers/readers.py\u001b[0m in \u001b[0;36m_read\u001b[0;34m(filepath_or_buffer, kwds)\u001b[0m\n\u001b[1;32m    480\u001b[0m \u001b[0;34m\u001b[0m\u001b[0m\n\u001b[1;32m    481\u001b[0m     \u001b[0;31m# Create the parser.\u001b[0m\u001b[0;34m\u001b[0m\u001b[0;34m\u001b[0m\u001b[0;34m\u001b[0m\u001b[0m\n\u001b[0;32m--> 482\u001b[0;31m     \u001b[0mparser\u001b[0m \u001b[0;34m=\u001b[0m \u001b[0mTextFileReader\u001b[0m\u001b[0;34m(\u001b[0m\u001b[0mfilepath_or_buffer\u001b[0m\u001b[0;34m,\u001b[0m \u001b[0;34m**\u001b[0m\u001b[0mkwds\u001b[0m\u001b[0;34m)\u001b[0m\u001b[0;34m\u001b[0m\u001b[0;34m\u001b[0m\u001b[0m\n\u001b[0m\u001b[1;32m    483\u001b[0m \u001b[0;34m\u001b[0m\u001b[0m\n\u001b[1;32m    484\u001b[0m     \u001b[0;32mif\u001b[0m \u001b[0mchunksize\u001b[0m \u001b[0;32mor\u001b[0m \u001b[0miterator\u001b[0m\u001b[0;34m:\u001b[0m\u001b[0;34m\u001b[0m\u001b[0;34m\u001b[0m\u001b[0m\n",
      "\u001b[0;32m/opt/conda/lib/python3.7/site-packages/pandas/io/parsers/readers.py\u001b[0m in \u001b[0;36m__init__\u001b[0;34m(self, f, engine, **kwds)\u001b[0m\n\u001b[1;32m    809\u001b[0m             \u001b[0mself\u001b[0m\u001b[0;34m.\u001b[0m\u001b[0moptions\u001b[0m\u001b[0;34m[\u001b[0m\u001b[0;34m\"has_index_names\"\u001b[0m\u001b[0;34m]\u001b[0m \u001b[0;34m=\u001b[0m \u001b[0mkwds\u001b[0m\u001b[0;34m[\u001b[0m\u001b[0;34m\"has_index_names\"\u001b[0m\u001b[0;34m]\u001b[0m\u001b[0;34m\u001b[0m\u001b[0;34m\u001b[0m\u001b[0m\n\u001b[1;32m    810\u001b[0m \u001b[0;34m\u001b[0m\u001b[0m\n\u001b[0;32m--> 811\u001b[0;31m         \u001b[0mself\u001b[0m\u001b[0;34m.\u001b[0m\u001b[0m_engine\u001b[0m \u001b[0;34m=\u001b[0m \u001b[0mself\u001b[0m\u001b[0;34m.\u001b[0m\u001b[0m_make_engine\u001b[0m\u001b[0;34m(\u001b[0m\u001b[0mself\u001b[0m\u001b[0;34m.\u001b[0m\u001b[0mengine\u001b[0m\u001b[0;34m)\u001b[0m\u001b[0;34m\u001b[0m\u001b[0;34m\u001b[0m\u001b[0m\n\u001b[0m\u001b[1;32m    812\u001b[0m \u001b[0;34m\u001b[0m\u001b[0m\n\u001b[1;32m    813\u001b[0m     \u001b[0;32mdef\u001b[0m \u001b[0mclose\u001b[0m\u001b[0;34m(\u001b[0m\u001b[0mself\u001b[0m\u001b[0;34m)\u001b[0m\u001b[0;34m:\u001b[0m\u001b[0;34m\u001b[0m\u001b[0;34m\u001b[0m\u001b[0m\n",
      "\u001b[0;32m/opt/conda/lib/python3.7/site-packages/pandas/io/parsers/readers.py\u001b[0m in \u001b[0;36m_make_engine\u001b[0;34m(self, engine)\u001b[0m\n\u001b[1;32m   1038\u001b[0m             )\n\u001b[1;32m   1039\u001b[0m         \u001b[0;31m# error: Too many arguments for \"ParserBase\"\u001b[0m\u001b[0;34m\u001b[0m\u001b[0;34m\u001b[0m\u001b[0;34m\u001b[0m\u001b[0m\n\u001b[0;32m-> 1040\u001b[0;31m         \u001b[0;32mreturn\u001b[0m \u001b[0mmapping\u001b[0m\u001b[0;34m[\u001b[0m\u001b[0mengine\u001b[0m\u001b[0;34m]\u001b[0m\u001b[0;34m(\u001b[0m\u001b[0mself\u001b[0m\u001b[0;34m.\u001b[0m\u001b[0mf\u001b[0m\u001b[0;34m,\u001b[0m \u001b[0;34m**\u001b[0m\u001b[0mself\u001b[0m\u001b[0;34m.\u001b[0m\u001b[0moptions\u001b[0m\u001b[0;34m)\u001b[0m  \u001b[0;31m# type: ignore[call-arg]\u001b[0m\u001b[0;34m\u001b[0m\u001b[0;34m\u001b[0m\u001b[0m\n\u001b[0m\u001b[1;32m   1041\u001b[0m \u001b[0;34m\u001b[0m\u001b[0m\n\u001b[1;32m   1042\u001b[0m     \u001b[0;32mdef\u001b[0m \u001b[0m_failover_to_python\u001b[0m\u001b[0;34m(\u001b[0m\u001b[0mself\u001b[0m\u001b[0;34m)\u001b[0m\u001b[0;34m:\u001b[0m\u001b[0;34m\u001b[0m\u001b[0;34m\u001b[0m\u001b[0m\n",
      "\u001b[0;32m/opt/conda/lib/python3.7/site-packages/pandas/io/parsers/c_parser_wrapper.py\u001b[0m in \u001b[0;36m__init__\u001b[0;34m(self, src, **kwds)\u001b[0m\n\u001b[1;32m     49\u001b[0m \u001b[0;34m\u001b[0m\u001b[0m\n\u001b[1;32m     50\u001b[0m         \u001b[0;31m# open handles\u001b[0m\u001b[0;34m\u001b[0m\u001b[0;34m\u001b[0m\u001b[0;34m\u001b[0m\u001b[0m\n\u001b[0;32m---> 51\u001b[0;31m         \u001b[0mself\u001b[0m\u001b[0;34m.\u001b[0m\u001b[0m_open_handles\u001b[0m\u001b[0;34m(\u001b[0m\u001b[0msrc\u001b[0m\u001b[0;34m,\u001b[0m \u001b[0mkwds\u001b[0m\u001b[0;34m)\u001b[0m\u001b[0;34m\u001b[0m\u001b[0;34m\u001b[0m\u001b[0m\n\u001b[0m\u001b[1;32m     52\u001b[0m         \u001b[0;32massert\u001b[0m \u001b[0mself\u001b[0m\u001b[0;34m.\u001b[0m\u001b[0mhandles\u001b[0m \u001b[0;32mis\u001b[0m \u001b[0;32mnot\u001b[0m \u001b[0;32mNone\u001b[0m\u001b[0;34m\u001b[0m\u001b[0;34m\u001b[0m\u001b[0m\n\u001b[1;32m     53\u001b[0m \u001b[0;34m\u001b[0m\u001b[0m\n",
      "\u001b[0;32m/opt/conda/lib/python3.7/site-packages/pandas/io/parsers/base_parser.py\u001b[0m in \u001b[0;36m_open_handles\u001b[0;34m(self, src, kwds)\u001b[0m\n\u001b[1;32m    227\u001b[0m             \u001b[0mmemory_map\u001b[0m\u001b[0;34m=\u001b[0m\u001b[0mkwds\u001b[0m\u001b[0;34m.\u001b[0m\u001b[0mget\u001b[0m\u001b[0;34m(\u001b[0m\u001b[0;34m\"memory_map\"\u001b[0m\u001b[0;34m,\u001b[0m \u001b[0;32mFalse\u001b[0m\u001b[0;34m)\u001b[0m\u001b[0;34m,\u001b[0m\u001b[0;34m\u001b[0m\u001b[0;34m\u001b[0m\u001b[0m\n\u001b[1;32m    228\u001b[0m             \u001b[0mstorage_options\u001b[0m\u001b[0;34m=\u001b[0m\u001b[0mkwds\u001b[0m\u001b[0;34m.\u001b[0m\u001b[0mget\u001b[0m\u001b[0;34m(\u001b[0m\u001b[0;34m\"storage_options\"\u001b[0m\u001b[0;34m,\u001b[0m \u001b[0;32mNone\u001b[0m\u001b[0;34m)\u001b[0m\u001b[0;34m,\u001b[0m\u001b[0;34m\u001b[0m\u001b[0;34m\u001b[0m\u001b[0m\n\u001b[0;32m--> 229\u001b[0;31m             \u001b[0merrors\u001b[0m\u001b[0;34m=\u001b[0m\u001b[0mkwds\u001b[0m\u001b[0;34m.\u001b[0m\u001b[0mget\u001b[0m\u001b[0;34m(\u001b[0m\u001b[0;34m\"encoding_errors\"\u001b[0m\u001b[0;34m,\u001b[0m \u001b[0;34m\"strict\"\u001b[0m\u001b[0;34m)\u001b[0m\u001b[0;34m,\u001b[0m\u001b[0;34m\u001b[0m\u001b[0;34m\u001b[0m\u001b[0m\n\u001b[0m\u001b[1;32m    230\u001b[0m         )\n\u001b[1;32m    231\u001b[0m \u001b[0;34m\u001b[0m\u001b[0m\n",
      "\u001b[0;32m/opt/conda/lib/python3.7/site-packages/pandas/io/common.py\u001b[0m in \u001b[0;36mget_handle\u001b[0;34m(path_or_buf, mode, encoding, compression, memory_map, is_text, errors, storage_options)\u001b[0m\n\u001b[1;32m    705\u001b[0m                 \u001b[0mencoding\u001b[0m\u001b[0;34m=\u001b[0m\u001b[0mioargs\u001b[0m\u001b[0;34m.\u001b[0m\u001b[0mencoding\u001b[0m\u001b[0;34m,\u001b[0m\u001b[0;34m\u001b[0m\u001b[0;34m\u001b[0m\u001b[0m\n\u001b[1;32m    706\u001b[0m                 \u001b[0merrors\u001b[0m\u001b[0;34m=\u001b[0m\u001b[0merrors\u001b[0m\u001b[0;34m,\u001b[0m\u001b[0;34m\u001b[0m\u001b[0;34m\u001b[0m\u001b[0m\n\u001b[0;32m--> 707\u001b[0;31m                 \u001b[0mnewline\u001b[0m\u001b[0;34m=\u001b[0m\u001b[0;34m\"\"\u001b[0m\u001b[0;34m,\u001b[0m\u001b[0;34m\u001b[0m\u001b[0;34m\u001b[0m\u001b[0m\n\u001b[0m\u001b[1;32m    708\u001b[0m             )\n\u001b[1;32m    709\u001b[0m         \u001b[0;32melse\u001b[0m\u001b[0;34m:\u001b[0m\u001b[0;34m\u001b[0m\u001b[0;34m\u001b[0m\u001b[0m\n",
      "\u001b[0;31mFileNotFoundError\u001b[0m: [Errno 2] No such file or directory: '../input/cassava-leaf-disease-classification/train.csv'"
     ]
    }
   ],
   "source": [
    "train = pd.read_csv(BASE_DIR + 'train.csv')\n",
    "train.head()"
   ]
  },
  {
   "cell_type": "code",
   "execution_count": null,
   "id": "f29f212a",
   "metadata": {
    "execution": {
     "iopub.execute_input": "2022-07-09T10:49:40.806049Z",
     "iopub.status.busy": "2022-07-09T10:49:40.805608Z",
     "iopub.status.idle": "2022-07-09T10:49:40.815505Z",
     "shell.execute_reply": "2022-07-09T10:49:40.814493Z",
     "shell.execute_reply.started": "2022-07-09T10:49:40.80601Z"
    },
    "papermill": {
     "duration": null,
     "end_time": null,
     "exception": null,
     "start_time": null,
     "status": "pending"
    },
    "tags": []
   },
   "outputs": [],
   "source": [
    "## loading mapping for target label\n",
    "\n",
    "with open(BASE_DIR + \"label_num_to_disease_map.json\") as f:\n",
    "    mapping = json.loads(f.read())\n",
    "    mapping = {int(k):v for k, v in mapping.items()}\n",
    "mapping"
   ]
  },
  {
   "cell_type": "code",
   "execution_count": null,
   "id": "ec368d01",
   "metadata": {
    "execution": {
     "iopub.execute_input": "2022-07-09T10:49:40.817928Z",
     "iopub.status.busy": "2022-07-09T10:49:40.817307Z",
     "iopub.status.idle": "2022-07-09T10:49:40.830902Z",
     "shell.execute_reply": "2022-07-09T10:49:40.829935Z",
     "shell.execute_reply.started": "2022-07-09T10:49:40.817892Z"
    },
    "papermill": {
     "duration": null,
     "end_time": null,
     "exception": null,
     "start_time": null,
     "status": "pending"
    },
    "tags": []
   },
   "outputs": [],
   "source": [
    "train[\"label_name\"] = train['label'].map(mapping)\n",
    "train.head()"
   ]
  },
  {
   "cell_type": "markdown",
   "id": "bc0de6fa",
   "metadata": {
    "papermill": {
     "duration": null,
     "end_time": null,
     "exception": null,
     "start_time": null,
     "status": "pending"
    },
    "tags": []
   },
   "source": [
    "### Exploratory Data Analysis"
   ]
  },
  {
   "cell_type": "code",
   "execution_count": null,
   "id": "451c42b5",
   "metadata": {
    "execution": {
     "iopub.execute_input": "2022-07-09T10:49:41.443639Z",
     "iopub.status.busy": "2022-07-09T10:49:41.442956Z",
     "iopub.status.idle": "2022-07-09T10:49:41.452646Z",
     "shell.execute_reply": "2022-07-09T10:49:41.451653Z",
     "shell.execute_reply.started": "2022-07-09T10:49:41.443598Z"
    },
    "papermill": {
     "duration": null,
     "end_time": null,
     "exception": null,
     "start_time": null,
     "status": "pending"
    },
    "tags": []
   },
   "outputs": [],
   "source": [
    "def plot_images(class_id, label, total_images = 6):\n",
    "    # get image ids correcsponding to the target class id\n",
    "    plot_list = train[train['label'] == class_id].sample(total_images)['image_id'].tolist()\n",
    "    \n",
    "    labels = [label for i in range(total_images)]\n",
    "    size = int(np.sqrt(total_images))\n",
    "    if size*size < total_images:\n",
    "        size += 1\n",
    "    plt.figure(figsize =(15, 15))\n",
    "    \n",
    "    #plot the image in subplot\n",
    "    for index, (image_id, label) in enumerate(zip(plot_list, labels)):\n",
    "        plt.subplot(size, size, index + 1)\n",
    "        image = Image.open(str(BASE_DIR + \"train_images/\" +image_id))\n",
    "        plt.imshow(image)\n",
    "        plt.title(label, fontsize = 14)\n",
    "        plt.axis(\"off\")\n",
    "        \n",
    "    plt.show()\n",
    "        \n",
    "        \n",
    "    "
   ]
  },
  {
   "cell_type": "code",
   "execution_count": null,
   "id": "bd4a1e94",
   "metadata": {
    "execution": {
     "iopub.execute_input": "2022-07-09T10:49:41.638104Z",
     "iopub.status.busy": "2022-07-09T10:49:41.637717Z",
     "iopub.status.idle": "2022-07-09T10:49:42.415454Z",
     "shell.execute_reply": "2022-07-09T10:49:42.414216Z",
     "shell.execute_reply.started": "2022-07-09T10:49:41.638072Z"
    },
    "papermill": {
     "duration": null,
     "end_time": null,
     "exception": null,
     "start_time": null,
     "status": "pending"
    },
    "tags": []
   },
   "outputs": [],
   "source": [
    "plot_images(0, mapping[0], 6)"
   ]
  },
  {
   "cell_type": "code",
   "execution_count": null,
   "id": "d22b97cb",
   "metadata": {
    "execution": {
     "iopub.execute_input": "2022-07-09T10:49:42.41803Z",
     "iopub.status.busy": "2022-07-09T10:49:42.417695Z",
     "iopub.status.idle": "2022-07-09T10:49:42.584746Z",
     "shell.execute_reply": "2022-07-09T10:49:42.583731Z",
     "shell.execute_reply.started": "2022-07-09T10:49:42.417999Z"
    },
    "papermill": {
     "duration": null,
     "end_time": null,
     "exception": null,
     "start_time": null,
     "status": "pending"
    },
    "tags": []
   },
   "outputs": [],
   "source": [
    "# class distribution\n",
    "sns.countplot(train[\"label\"])"
   ]
  },
  {
   "cell_type": "markdown",
   "id": "c0f3f6ed",
   "metadata": {
    "papermill": {
     "duration": null,
     "end_time": null,
     "exception": null,
     "start_time": null,
     "status": "pending"
    },
    "tags": []
   },
   "source": [
    "#### Obs: The label distribution is skewed. Hence We should use AUC for metric and Stratified KFold for data spliting"
   ]
  },
  {
   "cell_type": "markdown",
   "id": "8a0ea4b8",
   "metadata": {
    "papermill": {
     "duration": null,
     "end_time": null,
     "exception": null,
     "start_time": null,
     "status": "pending"
    },
    "tags": []
   },
   "source": [
    "### configuration and Utility Functions"
   ]
  },
  {
   "cell_type": "code",
   "execution_count": null,
   "id": "ee46a44d",
   "metadata": {
    "execution": {
     "iopub.execute_input": "2022-07-09T10:49:43.344488Z",
     "iopub.status.busy": "2022-07-09T10:49:43.344151Z",
     "iopub.status.idle": "2022-07-09T10:49:43.350572Z",
     "shell.execute_reply": "2022-07-09T10:49:43.349538Z",
     "shell.execute_reply.started": "2022-07-09T10:49:43.34446Z"
    },
    "papermill": {
     "duration": null,
     "end_time": null,
     "exception": null,
     "start_time": null,
     "status": "pending"
    },
    "tags": []
   },
   "outputs": [],
   "source": [
    "# All constant config\n",
    "\n",
    "DIM = (256, 256)\n",
    "WIDTH, HEIGHT = DIM\n",
    "NUM_CLASSES = 5\n",
    "NUM_WORKERS = 24\n",
    "TRAIN_BATCH_SIZE = 128\n",
    "TEST_BATCH_SIZE = 128\n",
    "SEED = 4\n",
    "DEVICE  = 'cuda'\n",
    "MEAN = (0.485,0.456, 0.406)\n",
    "STD = (0.229, 0.224, 0.225)\n",
    "LR = 0.001"
   ]
  },
  {
   "cell_type": "markdown",
   "id": "8830d51a",
   "metadata": {
    "papermill": {
     "duration": null,
     "end_time": null,
     "exception": null,
     "start_time": null,
     "status": "pending"
    },
    "tags": []
   },
   "source": [
    "### Augmentations"
   ]
  },
  {
   "cell_type": "code",
   "execution_count": null,
   "id": "c4a3d573",
   "metadata": {
    "execution": {
     "iopub.execute_input": "2022-07-09T10:49:43.353221Z",
     "iopub.status.busy": "2022-07-09T10:49:43.35251Z",
     "iopub.status.idle": "2022-07-09T10:49:43.363079Z",
     "shell.execute_reply": "2022-07-09T10:49:43.362195Z",
     "shell.execute_reply.started": "2022-07-09T10:49:43.353179Z"
    },
    "papermill": {
     "duration": null,
     "end_time": null,
     "exception": null,
     "start_time": null,
     "status": "pending"
    },
    "tags": []
   },
   "outputs": [],
   "source": [
    "def get_test_transform(value = 'val'):\n",
    "    if value == 'train':\n",
    "        return A.Compose([\n",
    "            A.Resize(WIDTH, HEIGHT),\n",
    "            A.HorizontalFlip(p = 0.5),\n",
    "            A.Rotate(limit = (-90, 90)),\n",
    "            A.VerticalFlip(p = 0.5),\n",
    "            A.Normalize(MEAN, STD, max_pixel_value = 255.0, always_apply = True),\n",
    "            ToTensorV2(p=1.0) # returning tensor for all images\n",
    "        ])\n",
    "    elif value == 'val':\n",
    "        return A.Compose([\n",
    "            A.Resize(WIDTH, HEIGHT),\n",
    "            A.Normalize(MEAN, STD, max_pixel_value = 255.0, always_apply = True),\n",
    "            ToTensorV2(p=1.0)\n",
    "        ])\n",
    "        "
   ]
  },
  {
   "cell_type": "markdown",
   "id": "80e04178",
   "metadata": {
    "papermill": {
     "duration": null,
     "end_time": null,
     "exception": null,
     "start_time": null,
     "status": "pending"
    },
    "tags": []
   },
   "source": [
    "### Dataset Loader Class"
   ]
  },
  {
   "cell_type": "code",
   "execution_count": null,
   "id": "ce771335",
   "metadata": {
    "execution": {
     "iopub.execute_input": "2022-07-09T10:49:43.365748Z",
     "iopub.status.busy": "2022-07-09T10:49:43.365188Z",
     "iopub.status.idle": "2022-07-09T10:49:43.377573Z",
     "shell.execute_reply": "2022-07-09T10:49:43.376621Z",
     "shell.execute_reply.started": "2022-07-09T10:49:43.365715Z"
    },
    "papermill": {
     "duration": null,
     "end_time": null,
     "exception": null,
     "start_time": null,
     "status": "pending"
    },
    "tags": []
   },
   "outputs": [],
   "source": [
    "class CassavaDataset(Dataset):\n",
    "    def __init__(self, image_ids, labels, dim = None, aug = None, folder = 'train_images'):\n",
    "        super().__init__()\n",
    "        self.image_ids = image_ids\n",
    "        self.labels = labels\n",
    "        self.dim = dim\n",
    "        self.aug = aug\n",
    "        self.folder = folder\n",
    "        \n",
    "    def __len__(self):\n",
    "        return len(self.image_ids)\n",
    "    \n",
    "    def __getitem__(self, index):\n",
    "        image = self.image_ids[index]\n",
    "        img = Image.open(os.path.join(BASE_DIR, self.folder, image))\n",
    "        \n",
    "        if(self.dim):\n",
    "            img = img.resize(self.dim)\n",
    "            \n",
    "        img = np.array(img)\n",
    "        \n",
    "        if self.aug is not None:\n",
    "            augmented = self.aug(image = img)\n",
    "            img = augmented[\"image\"]\n",
    "            \n",
    "        label = torch.tensor(self.labels[index], dtype = torch.long)\n",
    "        return img, label\n",
    "            \n",
    "        \n",
    "        "
   ]
  },
  {
   "cell_type": "markdown",
   "id": "9f106ae1",
   "metadata": {
    "papermill": {
     "duration": null,
     "end_time": null,
     "exception": null,
     "start_time": null,
     "status": "pending"
    },
    "tags": []
   },
   "source": [
    "### Create Folds"
   ]
  },
  {
   "cell_type": "code",
   "execution_count": null,
   "id": "ee634cf5",
   "metadata": {
    "execution": {
     "iopub.execute_input": "2022-07-09T10:49:44.499798Z",
     "iopub.status.busy": "2022-07-09T10:49:44.499046Z",
     "iopub.status.idle": "2022-07-09T10:49:44.526988Z",
     "shell.execute_reply": "2022-07-09T10:49:44.525805Z",
     "shell.execute_reply.started": "2022-07-09T10:49:44.499761Z"
    },
    "papermill": {
     "duration": null,
     "end_time": null,
     "exception": null,
     "start_time": null,
     "status": "pending"
    },
    "tags": []
   },
   "outputs": [],
   "source": [
    "from sklearn.model_selection import StratifiedKFold\n",
    "kf = StratifiedKFold(n_splits = 5, shuffle = True, random_state = 20)\n",
    "train['kfold']  = -1\n",
    "for fold, (train_idx, val_idx) in enumerate(kf.split(X = train['image_id'], y = train['label'])):\n",
    "    train.loc[val_idx, 'kfold'] = fold\n",
    "train.head()"
   ]
  },
  {
   "cell_type": "markdown",
   "id": "c8ced075",
   "metadata": {
    "papermill": {
     "duration": null,
     "end_time": null,
     "exception": null,
     "start_time": null,
     "status": "pending"
    },
    "tags": []
   },
   "source": [
    "### Use Pretrained Model (Transfer learning)"
   ]
  },
  {
   "cell_type": "code",
   "execution_count": null,
   "id": "13e081ad",
   "metadata": {
    "execution": {
     "iopub.execute_input": "2022-07-09T10:49:44.70859Z",
     "iopub.status.busy": "2022-07-09T10:49:44.707779Z",
     "iopub.status.idle": "2022-07-09T10:49:44.715948Z",
     "shell.execute_reply": "2022-07-09T10:49:44.7146Z",
     "shell.execute_reply.started": "2022-07-09T10:49:44.708558Z"
    },
    "papermill": {
     "duration": null,
     "end_time": null,
     "exception": null,
     "start_time": null,
     "status": "pending"
    },
    "tags": []
   },
   "outputs": [],
   "source": [
    "def getmodel():\n",
    "    net = models.efficientnet_b0(pretrained = True)\n",
    "    \n",
    "    ## freeze all the layers in the network\n",
    "    for param in net.parameters():\n",
    "        param.requires_grad = False\n",
    "        \n",
    "    num_ftrs =1280 \n",
    "    # create last few layers\n",
    "    net.classifier[1] = nn.Sequential(\n",
    "        nn.Linear(num_ftrs, 256),\n",
    "        nn.ReLU(),\n",
    "        nn.Dropout(0.3),\n",
    "        nn.Linear(256, NUM_CLASSES),\n",
    "        nn.LogSoftmax(dim = 1)\n",
    "    )\n",
    "    # use gpu if any\n",
    "    net = net.to(device = DEVICE)\n",
    "    return net"
   ]
  },
  {
   "cell_type": "code",
   "execution_count": null,
   "id": "8b3c8e8b",
   "metadata": {
    "execution": {
     "iopub.execute_input": "2022-07-09T10:49:44.720404Z",
     "iopub.status.busy": "2022-07-09T10:49:44.719407Z",
     "iopub.status.idle": "2022-07-09T10:49:44.924779Z",
     "shell.execute_reply": "2022-07-09T10:49:44.923813Z",
     "shell.execute_reply.started": "2022-07-09T10:49:44.720364Z"
    },
    "papermill": {
     "duration": null,
     "end_time": null,
     "exception": null,
     "start_time": null,
     "status": "pending"
    },
    "tags": []
   },
   "outputs": [],
   "source": [
    "model = getmodel()"
   ]
  },
  {
   "cell_type": "code",
   "execution_count": null,
   "id": "01d6efaa",
   "metadata": {
    "execution": {
     "iopub.execute_input": "2022-07-09T10:49:46.079979Z",
     "iopub.status.busy": "2022-07-09T10:49:46.079621Z",
     "iopub.status.idle": "2022-07-09T10:49:46.087388Z",
     "shell.execute_reply": "2022-07-09T10:49:46.086119Z",
     "shell.execute_reply.started": "2022-07-09T10:49:46.079948Z"
    },
    "papermill": {
     "duration": null,
     "end_time": null,
     "exception": null,
     "start_time": null,
     "status": "pending"
    },
    "tags": []
   },
   "outputs": [],
   "source": [
    "criterion = nn.CrossEntropyLoss()\n",
    "optimizer = optim.Adam(model.parameters(), lr = LR)"
   ]
  },
  {
   "cell_type": "code",
   "execution_count": null,
   "id": "d2b7fb40",
   "metadata": {
    "execution": {
     "iopub.execute_input": "2022-07-09T10:49:46.090792Z",
     "iopub.status.busy": "2022-07-09T10:49:46.089623Z",
     "iopub.status.idle": "2022-07-09T10:49:46.100999Z",
     "shell.execute_reply": "2022-07-09T10:49:46.099916Z",
     "shell.execute_reply.started": "2022-07-09T10:49:46.090751Z"
    },
    "papermill": {
     "duration": null,
     "end_time": null,
     "exception": null,
     "start_time": null,
     "status": "pending"
    },
    "tags": []
   },
   "outputs": [],
   "source": [
    "# find total parameters in the model\n",
    "total_params = sum(p.numel() for p in model.parameters())\n",
    "print(f\"total_params: {total_params:,}\")\n",
    "trainable_params = sum(p.numel() for p in model.parameters() if p.requires_grad)\n",
    "print(f\"train_params: {trainable_params:,}\")"
   ]
  },
  {
   "cell_type": "markdown",
   "id": "9f2aeabe",
   "metadata": {
    "papermill": {
     "duration": null,
     "end_time": null,
     "exception": null,
     "start_time": null,
     "status": "pending"
    },
    "tags": []
   },
   "source": [
    "### Steps for Training and Validaiton"
   ]
  },
  {
   "cell_type": "code",
   "execution_count": null,
   "id": "7f06158a",
   "metadata": {
    "execution": {
     "iopub.execute_input": "2022-07-09T10:52:30.353675Z",
     "iopub.status.busy": "2022-07-09T10:52:30.352907Z",
     "iopub.status.idle": "2022-07-09T10:52:30.370118Z",
     "shell.execute_reply": "2022-07-09T10:52:30.369183Z",
     "shell.execute_reply.started": "2022-07-09T10:52:30.35364Z"
    },
    "papermill": {
     "duration": null,
     "end_time": null,
     "exception": null,
     "start_time": null,
     "status": "pending"
    },
    "tags": []
   },
   "outputs": [],
   "source": [
    "\n",
    "\n",
    "def train_model(model, dataloaders, criterion, optimizer, num_epochs=5):\n",
    "    # set starting time\n",
    "    start_time = time.time()\n",
    "    \n",
    "    val_acc_history = []\n",
    "    \n",
    "    best_model_wts = copy.deepcopy(model.state_dict())\n",
    "    best_acc = 0.0\n",
    "    \n",
    "    for epoch in tqdm(range(num_epochs)):\n",
    "        print(f'Epoch {epoch}/{num_epochs-1}')\n",
    "        print('-'*15)\n",
    "        \n",
    "        # each epoch have training and validation phase\n",
    "        for phase in ['train', 'val']:\n",
    "            # set mode for model\n",
    "            if phase == 'train':\n",
    "                model.train() # set model to training mode\n",
    "            else:\n",
    "                model.eval() # set model to evaluate mode\n",
    "                \n",
    "            running_loss = 0.0\n",
    "            running_corrects = 0\n",
    "            fin_out = []\n",
    "            \n",
    "            # iterate over data\n",
    "            for inputs, labels in dataloaders[phase]:\n",
    "                # move data to corresponding hardware\n",
    "                inputs = inputs.to(DEVICE)\n",
    "                labels = labels.to(DEVICE)\n",
    "                \n",
    "                # reset (or) zero the parameter gradients\n",
    "                optimizer.zero_grad()\n",
    "                \n",
    "                # training (or) validation process\n",
    "                with torch.set_grad_enabled(phase=='train'):\n",
    "                    outputs = model(inputs)\n",
    "                    loss = criterion(outputs, labels)\n",
    "                    \n",
    "                    _, preds = torch.max(outputs, 1)\n",
    "                    \n",
    "                    # back propagation in the network\n",
    "                    if phase == 'train':\n",
    "                        loss.backward()\n",
    "                        optimizer.step()\n",
    "\n",
    "                        \n",
    "                running_loss += loss.item() * inputs.size(0)\n",
    "                running_corrects += torch.sum(preds == labels.data)\n",
    "                \n",
    "            # calculate loss and accuarcy for the epoch\n",
    "            epoch_loss = running_loss / len(dataloaders[phase].dataset)\n",
    "            epoch_acc = running_corrects.double() / len(dataloaders[phase].dataset)\n",
    "            \n",
    "            # print loss and acc for training & validation\n",
    "            print('{} Loss: {:.4f} Acc: {:.4f}'.format(phase, epoch_loss, epoch_acc))\n",
    "            \n",
    "            # update the best weights\n",
    "            if phase == 'val' and epoch_acc > best_acc:\n",
    "                best_acc = epoch_acc\n",
    "                best_model_wts = copy.deepcopy(model.state_dict())\n",
    "            if phase == 'val':\n",
    "                val_acc_history.append(epoch_acc)\n",
    "                \n",
    "        print()\n",
    "    end_time = time.time() - start_time\n",
    "    \n",
    "    print('Training completes in {:.0f}m {:.0f}s'.format(end_time // 60, end_time % 60))\n",
    "    print('Best Val Acc: {:.4f}'.format(best_acc))\n",
    "    \n",
    "    # load best model weights\n",
    "    model.load_state_dict(best_model_wts)\n",
    "    return model, val_acc_history\n",
    "\n"
   ]
  },
  {
   "cell_type": "code",
   "execution_count": null,
   "id": "1f94c095",
   "metadata": {
    "execution": {
     "iopub.execute_input": "2022-07-09T10:52:32.757185Z",
     "iopub.status.busy": "2022-07-09T10:52:32.756756Z"
    },
    "papermill": {
     "duration": null,
     "end_time": null,
     "exception": null,
     "start_time": null,
     "status": "pending"
    },
    "tags": []
   },
   "outputs": [],
   "source": [
    "## train the model\n",
    "for fold in tqdm(range(5)):\n",
    "    print(f\"Fold: {fold}\")\n",
    "    # create train data and val data\n",
    "    train_data = train[train['kfold'] != fold]\n",
    "    val_data = train[train['kfold'] == fold]\n",
    "    \n",
    "    # create trainset, trainloader\n",
    "    train_dataset = CassavaDataset(\n",
    "    image_ids = train_data['image_id'].values, \n",
    "    labels = train_data['label'].values,\n",
    "    aug = get_test_transform('train'),\n",
    "    dim = DIM)\n",
    "\n",
    "    train_loader  = DataLoader(\n",
    "        train_dataset, \n",
    "        batch_size = TRAIN_BATCH_SIZE, \n",
    "        shuffle = False, \n",
    "        num_workers = NUM_WORKERS)\n",
    "    \n",
    "    #create the valset and valloader\n",
    "    val_dataset = CassavaDataset(\n",
    "    image_ids = val_data['image_id'].values, \n",
    "    labels = val_data['label'].values,\n",
    "    aug = get_test_transform('val'),\n",
    "    dim = DIM)\n",
    "\n",
    "    val_loader  = DataLoader(\n",
    "        val_dataset, \n",
    "        batch_size = TRAIN_BATCH_SIZE, \n",
    "        shuffle = False, \n",
    "        num_workers = NUM_WORKERS)\n",
    "    \n",
    "    loader = {\"train\":train_loader, \"val\":val_loader}\n",
    "    \n",
    "    model, accuracy = train_model(model = model, \n",
    "                                  dataloaders = loader, \n",
    "                                  criterion = criterion, \n",
    "                                  optimizer = optimizer, \n",
    "                                  num_epochs = 5)\n",
    "    torch.save(model, f'/kaggle/working/best_model_{fold}.h5')\n",
    "    torch.save(model.state_dict(), f'/kaggle/working/best_model_weights_{fold}')"
   ]
  },
  {
   "cell_type": "code",
   "execution_count": null,
   "id": "cb3fb10b",
   "metadata": {
    "execution": {
     "iopub.status.busy": "2022-07-09T10:51:42.177963Z",
     "iopub.status.idle": "2022-07-09T10:51:42.180825Z",
     "shell.execute_reply": "2022-07-09T10:51:42.180581Z",
     "shell.execute_reply.started": "2022-07-09T10:51:42.180554Z"
    },
    "papermill": {
     "duration": null,
     "end_time": null,
     "exception": null,
     "start_time": null,
     "status": "pending"
    },
    "tags": []
   },
   "outputs": [],
   "source": [
    "torch.cuda.empty_cache()"
   ]
  },
  {
   "cell_type": "code",
   "execution_count": null,
   "id": "805ed2b8",
   "metadata": {
    "papermill": {
     "duration": null,
     "end_time": null,
     "exception": null,
     "start_time": null,
     "status": "pending"
    },
    "tags": []
   },
   "outputs": [],
   "source": []
  }
 ],
 "metadata": {
  "kernelspec": {
   "display_name": "Python 3",
   "language": "python",
   "name": "python3"
  },
  "language_info": {
   "codemirror_mode": {
    "name": "ipython",
    "version": 3
   },
   "file_extension": ".py",
   "mimetype": "text/x-python",
   "name": "python",
   "nbconvert_exporter": "python",
   "pygments_lexer": "ipython3",
   "version": "3.7.12"
  },
  "papermill": {
   "default_parameters": {},
   "duration": 18.167089,
   "end_time": "2022-07-09T11:32:34.370820",
   "environment_variables": {},
   "exception": true,
   "input_path": "__notebook__.ipynb",
   "output_path": "__notebook__.ipynb",
   "parameters": {},
   "start_time": "2022-07-09T11:32:16.203731",
   "version": "2.3.4"
  }
 },
 "nbformat": 4,
 "nbformat_minor": 5
}
